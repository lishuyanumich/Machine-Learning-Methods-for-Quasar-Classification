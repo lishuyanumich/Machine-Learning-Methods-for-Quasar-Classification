{
 "cells": [
  {
   "cell_type": "code",
   "execution_count": 3,
   "metadata": {},
   "outputs": [],
   "source": [
    "import pandas as pd\n",
    "import numpy as np\n",
    "import matplotlib.pyplot as plt\n",
    "\n",
    "from sklearn.ensemble import RandomForestClassifier\n",
    "from sklearn.model_selection import cross_val_score\n",
    "from sklearn import metrics\n",
    "from sklearn.metrics import precision_recall_curve\n",
    "#from sklearn.utils.fixes import signature"
   ]
  },
  {
   "cell_type": "code",
   "execution_count": 4,
   "metadata": {},
   "outputs": [],
   "source": [
    "q1 = pd.read_csv(\"/Users/ShuyanLi/desktop/Astronomy project/qsos1.csv\")\n",
    "q2 = pd.read_csv(\"/Users/ShuyanLi/desktop/Astronomy project/stars1r1.csv\")\n",
    "q3 = pd.read_csv(\"/Users/ShuyanLi/desktop/Astronomy project/qsovali.csv\")\n",
    "q4 = pd.read_csv(\"/Users/ShuyanLi/desktop/Astronomy project/starvali.csv\")"
   ]
  },
  {
   "cell_type": "code",
   "execution_count": 5,
   "metadata": {},
   "outputs": [
    {
     "data": {
      "text/html": [
       "<div>\n",
       "<style scoped>\n",
       "    .dataframe tbody tr th:only-of-type {\n",
       "        vertical-align: middle;\n",
       "    }\n",
       "\n",
       "    .dataframe tbody tr th {\n",
       "        vertical-align: top;\n",
       "    }\n",
       "\n",
       "    .dataframe thead th {\n",
       "        text-align: right;\n",
       "    }\n",
       "</style>\n",
       "<table border=\"1\" class=\"dataframe\">\n",
       "  <thead>\n",
       "    <tr style=\"text-align: right;\">\n",
       "      <th></th>\n",
       "      <th>gw1</th>\n",
       "      <th>rw1</th>\n",
       "      <th>iw1</th>\n",
       "      <th>zw1</th>\n",
       "      <th>yw1</th>\n",
       "      <th>w12</th>\n",
       "      <th>ipk</th>\n",
       "      <th>zpk</th>\n",
       "      <th>w23</th>\n",
       "      <th>ra</th>\n",
       "      <th>dec</th>\n",
       "      <th>class</th>\n",
       "    </tr>\n",
       "  </thead>\n",
       "  <tbody>\n",
       "    <tr>\n",
       "      <th>0</th>\n",
       "      <td>0.1291</td>\n",
       "      <td>0.0442</td>\n",
       "      <td>0.0763</td>\n",
       "      <td>-0.1097</td>\n",
       "      <td>-0.0390</td>\n",
       "      <td>0.645</td>\n",
       "      <td>-0.0798</td>\n",
       "      <td>-0.1306</td>\n",
       "      <td>1.347</td>\n",
       "      <td>130.182022</td>\n",
       "      <td>35.254021</td>\n",
       "      <td>QSO</td>\n",
       "    </tr>\n",
       "    <tr>\n",
       "      <th>1</th>\n",
       "      <td>1.1357</td>\n",
       "      <td>1.1314</td>\n",
       "      <td>1.1898</td>\n",
       "      <td>1.2547</td>\n",
       "      <td>1.0329</td>\n",
       "      <td>0.314</td>\n",
       "      <td>-0.1875</td>\n",
       "      <td>0.1815</td>\n",
       "      <td>0.872</td>\n",
       "      <td>211.456385</td>\n",
       "      <td>39.662792</td>\n",
       "      <td>QSO</td>\n",
       "    </tr>\n",
       "    <tr>\n",
       "      <th>2</th>\n",
       "      <td>0.6357</td>\n",
       "      <td>0.5618</td>\n",
       "      <td>0.5277</td>\n",
       "      <td>0.1935</td>\n",
       "      <td>0.2482</td>\n",
       "      <td>0.275</td>\n",
       "      <td>-0.0891</td>\n",
       "      <td>-0.0772</td>\n",
       "      <td>1.150</td>\n",
       "      <td>154.642487</td>\n",
       "      <td>55.115891</td>\n",
       "      <td>QSO</td>\n",
       "    </tr>\n",
       "    <tr>\n",
       "      <th>3</th>\n",
       "      <td>2.2020</td>\n",
       "      <td>2.1002</td>\n",
       "      <td>2.0227</td>\n",
       "      <td>2.0110</td>\n",
       "      <td>1.4642</td>\n",
       "      <td>0.564</td>\n",
       "      <td>-0.0226</td>\n",
       "      <td>0.0504</td>\n",
       "      <td>1.303</td>\n",
       "      <td>355.534149</td>\n",
       "      <td>14.697548</td>\n",
       "      <td>QSO</td>\n",
       "    </tr>\n",
       "    <tr>\n",
       "      <th>4</th>\n",
       "      <td>0.7686</td>\n",
       "      <td>0.7570</td>\n",
       "      <td>0.5810</td>\n",
       "      <td>0.7206</td>\n",
       "      <td>0.5224</td>\n",
       "      <td>0.732</td>\n",
       "      <td>-0.0889</td>\n",
       "      <td>-0.1298</td>\n",
       "      <td>1.017</td>\n",
       "      <td>145.067429</td>\n",
       "      <td>16.637278</td>\n",
       "      <td>QSO</td>\n",
       "    </tr>\n",
       "  </tbody>\n",
       "</table>\n",
       "</div>"
      ],
      "text/plain": [
       "<div>\n",
       "<style scoped>\n",
       "    .dataframe tbody tr th:only-of-type {\n",
       "        vertical-align: middle;\n",
       "    }\n",
       "\n",
       "    .dataframe tbody tr th {\n",
       "        vertical-align: top;\n",
       "    }\n",
       "\n",
       "    .dataframe thead th {\n",
       "        text-align: right;\n",
       "    }\n",
       "</style>\n",
       "<table border=\"1\" class=\"dataframe\">\n",
       "  <thead>\n",
       "    <tr style=\"text-align: right;\">\n",
       "      <th></th>\n",
       "      <th>gw1</th>\n",
       "      <th>rw1</th>\n",
       "      <th>iw1</th>\n",
       "      <th>zw1</th>\n",
       "      <th>yw1</th>\n",
       "      <th>w12</th>\n",
       "      <th>ipk</th>\n",
       "      <th>zpk</th>\n",
       "      <th>w23</th>\n",
       "      <th>ra</th>\n",
       "      <th>dec</th>\n",
       "      <th>class</th>\n",
       "    </tr>\n",
       "  </thead>\n",
       "  <tbody>\n",
       "    <tr>\n",
       "      <th>0</th>\n",
       "      <td>0.1291</td>\n",
       "      <td>0.0442</td>\n",
       "      <td>0.0763</td>\n",
       "      <td>-0.1097</td>\n",
       "      <td>-0.0390</td>\n",
       "      <td>0.645</td>\n",
       "      <td>-0.0798</td>\n",
       "      <td>-0.1306</td>\n",
       "      <td>1.347</td>\n",
       "      <td>130.182022</td>\n",
       "      <td>35.254021</td>\n",
       "      <td>QSO</td>\n",
       "    </tr>\n",
       "    <tr>\n",
       "      <th>1</th>\n",
       "      <td>1.1357</td>\n",
       "      <td>1.1314</td>\n",
       "      <td>1.1898</td>\n",
       "      <td>1.2547</td>\n",
       "      <td>1.0329</td>\n",
       "      <td>0.314</td>\n",
       "      <td>-0.1875</td>\n",
       "      <td>0.1815</td>\n",
       "      <td>0.872</td>\n",
       "      <td>211.456385</td>\n",
       "      <td>39.662792</td>\n",
       "      <td>QSO</td>\n",
       "    </tr>\n",
       "    <tr>\n",
       "      <th>2</th>\n",
       "      <td>0.6357</td>\n",
       "      <td>0.5618</td>\n",
       "      <td>0.5277</td>\n",
       "      <td>0.1935</td>\n",
       "      <td>0.2482</td>\n",
       "      <td>0.275</td>\n",
       "      <td>-0.0891</td>\n",
       "      <td>-0.0772</td>\n",
       "      <td>1.150</td>\n",
       "      <td>154.642487</td>\n",
       "      <td>55.115891</td>\n",
       "      <td>QSO</td>\n",
       "    </tr>\n",
       "    <tr>\n",
       "      <th>3</th>\n",
       "      <td>2.2020</td>\n",
       "      <td>2.1002</td>\n",
       "      <td>2.0227</td>\n",
       "      <td>2.0110</td>\n",
       "      <td>1.4642</td>\n",
       "      <td>0.564</td>\n",
       "      <td>-0.0226</td>\n",
       "      <td>0.0504</td>\n",
       "      <td>1.303</td>\n",
       "      <td>355.534149</td>\n",
       "      <td>14.697548</td>\n",
       "      <td>QSO</td>\n",
       "    </tr>\n",
       "    <tr>\n",
       "      <th>4</th>\n",
       "      <td>0.7686</td>\n",
       "      <td>0.7570</td>\n",
       "      <td>0.5810</td>\n",
       "      <td>0.7206</td>\n",
       "      <td>0.5224</td>\n",
       "      <td>0.732</td>\n",
       "      <td>-0.0889</td>\n",
       "      <td>-0.1298</td>\n",
       "      <td>1.017</td>\n",
       "      <td>145.067429</td>\n",
       "      <td>16.637278</td>\n",
       "      <td>QSO</td>\n",
       "    </tr>\n",
       "  </tbody>\n",
       "</table>\n",
       "</div>"
      ]
     },
     "execution_count": 5,
     "metadata": {},
     "output_type": "execute_result"
    }
   ],
   "source": [
    "q1.head()"
   ]
  },
  {
   "cell_type": "code",
   "execution_count": 6,
   "metadata": {},
   "outputs": [],
   "source": [
    "data1 = pd.concat([q1, q2], ignore_index = True)\n",
    "#merge q1 and q2#\n",
    "data2 = pd.concat([q3, q4], ignore_index = True)\n",
    "#merge q3 and q4#"
   ]
  },
  {
   "cell_type": "code",
   "execution_count": 7,
   "metadata": {},
   "outputs": [
    {
     "data": {
      "text/html": [
       "<div>\n",
       "<style scoped>\n",
       "    .dataframe tbody tr th:only-of-type {\n",
       "        vertical-align: middle;\n",
       "    }\n",
       "\n",
       "    .dataframe tbody tr th {\n",
       "        vertical-align: top;\n",
       "    }\n",
       "\n",
       "    .dataframe thead th {\n",
       "        text-align: right;\n",
       "    }\n",
       "</style>\n",
       "<table border=\"1\" class=\"dataframe\">\n",
       "  <thead>\n",
       "    <tr style=\"text-align: right;\">\n",
       "      <th></th>\n",
       "      <th>gw1</th>\n",
       "      <th>rw1</th>\n",
       "      <th>iw1</th>\n",
       "      <th>zw1</th>\n",
       "      <th>yw1</th>\n",
       "      <th>w12</th>\n",
       "      <th>ipk</th>\n",
       "      <th>zpk</th>\n",
       "      <th>w23</th>\n",
       "      <th>ra</th>\n",
       "      <th>dec</th>\n",
       "      <th>class</th>\n",
       "    </tr>\n",
       "  </thead>\n",
       "  <tbody>\n",
       "    <tr>\n",
       "      <th>0</th>\n",
       "      <td>0.1291</td>\n",
       "      <td>0.0442</td>\n",
       "      <td>0.0763</td>\n",
       "      <td>-0.1097</td>\n",
       "      <td>-0.0390</td>\n",
       "      <td>0.645</td>\n",
       "      <td>-0.0798</td>\n",
       "      <td>-0.1306</td>\n",
       "      <td>1.347</td>\n",
       "      <td>130.182022</td>\n",
       "      <td>35.254021</td>\n",
       "      <td>QSO</td>\n",
       "    </tr>\n",
       "    <tr>\n",
       "      <th>1</th>\n",
       "      <td>1.1357</td>\n",
       "      <td>1.1314</td>\n",
       "      <td>1.1898</td>\n",
       "      <td>1.2547</td>\n",
       "      <td>1.0329</td>\n",
       "      <td>0.314</td>\n",
       "      <td>-0.1875</td>\n",
       "      <td>0.1815</td>\n",
       "      <td>0.872</td>\n",
       "      <td>211.456385</td>\n",
       "      <td>39.662792</td>\n",
       "      <td>QSO</td>\n",
       "    </tr>\n",
       "    <tr>\n",
       "      <th>2</th>\n",
       "      <td>0.6357</td>\n",
       "      <td>0.5618</td>\n",
       "      <td>0.5277</td>\n",
       "      <td>0.1935</td>\n",
       "      <td>0.2482</td>\n",
       "      <td>0.275</td>\n",
       "      <td>-0.0891</td>\n",
       "      <td>-0.0772</td>\n",
       "      <td>1.150</td>\n",
       "      <td>154.642487</td>\n",
       "      <td>55.115891</td>\n",
       "      <td>QSO</td>\n",
       "    </tr>\n",
       "    <tr>\n",
       "      <th>3</th>\n",
       "      <td>2.2020</td>\n",
       "      <td>2.1002</td>\n",
       "      <td>2.0227</td>\n",
       "      <td>2.0110</td>\n",
       "      <td>1.4642</td>\n",
       "      <td>0.564</td>\n",
       "      <td>-0.0226</td>\n",
       "      <td>0.0504</td>\n",
       "      <td>1.303</td>\n",
       "      <td>355.534149</td>\n",
       "      <td>14.697548</td>\n",
       "      <td>QSO</td>\n",
       "    </tr>\n",
       "    <tr>\n",
       "      <th>4</th>\n",
       "      <td>0.7686</td>\n",
       "      <td>0.7570</td>\n",
       "      <td>0.5810</td>\n",
       "      <td>0.7206</td>\n",
       "      <td>0.5224</td>\n",
       "      <td>0.732</td>\n",
       "      <td>-0.0889</td>\n",
       "      <td>-0.1298</td>\n",
       "      <td>1.017</td>\n",
       "      <td>145.067429</td>\n",
       "      <td>16.637278</td>\n",
       "      <td>QSO</td>\n",
       "    </tr>\n",
       "  </tbody>\n",
       "</table>\n",
       "</div>"
      ],
      "text/plain": [
       "<div>\n",
       "<style scoped>\n",
       "    .dataframe tbody tr th:only-of-type {\n",
       "        vertical-align: middle;\n",
       "    }\n",
       "\n",
       "    .dataframe tbody tr th {\n",
       "        vertical-align: top;\n",
       "    }\n",
       "\n",
       "    .dataframe thead th {\n",
       "        text-align: right;\n",
       "    }\n",
       "</style>\n",
       "<table border=\"1\" class=\"dataframe\">\n",
       "  <thead>\n",
       "    <tr style=\"text-align: right;\">\n",
       "      <th></th>\n",
       "      <th>gw1</th>\n",
       "      <th>rw1</th>\n",
       "      <th>iw1</th>\n",
       "      <th>zw1</th>\n",
       "      <th>yw1</th>\n",
       "      <th>w12</th>\n",
       "      <th>ipk</th>\n",
       "      <th>zpk</th>\n",
       "      <th>w23</th>\n",
       "      <th>ra</th>\n",
       "      <th>dec</th>\n",
       "      <th>class</th>\n",
       "    </tr>\n",
       "  </thead>\n",
       "  <tbody>\n",
       "    <tr>\n",
       "      <th>0</th>\n",
       "      <td>0.1291</td>\n",
       "      <td>0.0442</td>\n",
       "      <td>0.0763</td>\n",
       "      <td>-0.1097</td>\n",
       "      <td>-0.0390</td>\n",
       "      <td>0.645</td>\n",
       "      <td>-0.0798</td>\n",
       "      <td>-0.1306</td>\n",
       "      <td>1.347</td>\n",
       "      <td>130.182022</td>\n",
       "      <td>35.254021</td>\n",
       "      <td>QSO</td>\n",
       "    </tr>\n",
       "    <tr>\n",
       "      <th>1</th>\n",
       "      <td>1.1357</td>\n",
       "      <td>1.1314</td>\n",
       "      <td>1.1898</td>\n",
       "      <td>1.2547</td>\n",
       "      <td>1.0329</td>\n",
       "      <td>0.314</td>\n",
       "      <td>-0.1875</td>\n",
       "      <td>0.1815</td>\n",
       "      <td>0.872</td>\n",
       "      <td>211.456385</td>\n",
       "      <td>39.662792</td>\n",
       "      <td>QSO</td>\n",
       "    </tr>\n",
       "    <tr>\n",
       "      <th>2</th>\n",
       "      <td>0.6357</td>\n",
       "      <td>0.5618</td>\n",
       "      <td>0.5277</td>\n",
       "      <td>0.1935</td>\n",
       "      <td>0.2482</td>\n",
       "      <td>0.275</td>\n",
       "      <td>-0.0891</td>\n",
       "      <td>-0.0772</td>\n",
       "      <td>1.150</td>\n",
       "      <td>154.642487</td>\n",
       "      <td>55.115891</td>\n",
       "      <td>QSO</td>\n",
       "    </tr>\n",
       "    <tr>\n",
       "      <th>3</th>\n",
       "      <td>2.2020</td>\n",
       "      <td>2.1002</td>\n",
       "      <td>2.0227</td>\n",
       "      <td>2.0110</td>\n",
       "      <td>1.4642</td>\n",
       "      <td>0.564</td>\n",
       "      <td>-0.0226</td>\n",
       "      <td>0.0504</td>\n",
       "      <td>1.303</td>\n",
       "      <td>355.534149</td>\n",
       "      <td>14.697548</td>\n",
       "      <td>QSO</td>\n",
       "    </tr>\n",
       "    <tr>\n",
       "      <th>4</th>\n",
       "      <td>0.7686</td>\n",
       "      <td>0.7570</td>\n",
       "      <td>0.5810</td>\n",
       "      <td>0.7206</td>\n",
       "      <td>0.5224</td>\n",
       "      <td>0.732</td>\n",
       "      <td>-0.0889</td>\n",
       "      <td>-0.1298</td>\n",
       "      <td>1.017</td>\n",
       "      <td>145.067429</td>\n",
       "      <td>16.637278</td>\n",
       "      <td>QSO</td>\n",
       "    </tr>\n",
       "  </tbody>\n",
       "</table>\n",
       "</div>"
      ]
     },
     "execution_count": 7,
     "metadata": {},
     "output_type": "execute_result"
    }
   ],
   "source": [
    "data1.head()"
   ]
  },
  {
   "cell_type": "code",
   "execution_count": 8,
   "metadata": {},
   "outputs": [],
   "source": [
    "target_names=np.array(['QSO','STAR'])"
   ]
  },
  {
   "cell_type": "code",
   "execution_count": 9,
   "metadata": {},
   "outputs": [],
   "source": [
    "train = data1\n",
    "test = data2"
   ]
  },
  {
   "cell_type": "code",
   "execution_count": 10,
   "metadata": {},
   "outputs": [],
   "source": [
    "train.sort_index(inplace=True)\n",
    "test.sort_index(inplace=True)"
   ]
  },
  {
   "cell_type": "code",
   "execution_count": 11,
   "metadata": {},
   "outputs": [
    {
     "name": "stdout",
     "output_type": "stream",
     "text": [
      "Number of observations in the training data: 20000\n",
      "Number of observations in the test data: 20000\n"
     ]
    }
   ],
   "source": [
    "# Show the number of observations for the test and training dataframes\n",
    "print('Number of observations in the training data:', len(train))\n",
    "print('Number of observations in the test data:',len(test))"
   ]
  },
  {
   "cell_type": "code",
   "execution_count": 12,
   "metadata": {},
   "outputs": [
    {
     "data": {
      "text/plain": [
       "Index(['gw1', 'rw1', 'iw1', 'zw1', 'yw1', 'w12', 'ipk', 'zpk'], dtype='object')"
      ]
     },
     "execution_count": 12,
     "metadata": {},
     "output_type": "execute_result"
    }
   ],
   "source": [
    "# Create a list of the feature column's names\n",
    "features = train.columns[:8]\n",
    "\n",
    "# View features\n",
    "features"
   ]
  },
  {
   "cell_type": "code",
   "execution_count": 13,
   "metadata": {},
   "outputs": [
    {
     "data": {
      "text/plain": [
       "(array([0, 0, 0, ..., 1, 1, 1], dtype=int64),\n",
       " Index(['QSO', 'STAR'], dtype='object'))"
      ]
     },
     "execution_count": 13,
     "metadata": {},
     "output_type": "execute_result"
    }
   ],
   "source": [
    "pd.factorize(train['class'])"
   ]
  },
  {
   "cell_type": "code",
   "execution_count": 14,
   "metadata": {},
   "outputs": [
    {
     "data": {
      "text/plain": [
       "array([0, 0, 0, ..., 1, 1, 1], dtype=int64)"
      ]
     },
     "execution_count": 14,
     "metadata": {},
     "output_type": "execute_result"
    }
   ],
   "source": [
    "# train['species'] contains the actual species names. Before we can use it,\n",
    "# we need to convert each species name into a digit. So, in this case there\n",
    "# are three species, which have been coded as 0, 1, or 2.\n",
    "y = pd.factorize(train['class'])[0]\n",
    "\n",
    "# View target\n",
    "y"
   ]
  },
  {
   "cell_type": "code",
   "execution_count": 15,
   "metadata": {},
   "outputs": [
    {
     "data": {
      "text/plain": [
       "0         QSO\n",
       "1         QSO\n",
       "2         QSO\n",
       "3         QSO\n",
       "4         QSO\n",
       "5         QSO\n",
       "6         QSO\n",
       "7         QSO\n",
       "8         QSO\n",
       "9         QSO\n",
       "10        QSO\n",
       "11        QSO\n",
       "12        QSO\n",
       "13        QSO\n",
       "14        QSO\n",
       "15        QSO\n",
       "16        QSO\n",
       "17        QSO\n",
       "18        QSO\n",
       "19        QSO\n",
       "20        QSO\n",
       "21        QSO\n",
       "22        QSO\n",
       "23        QSO\n",
       "24        QSO\n",
       "25        QSO\n",
       "26        QSO\n",
       "27        QSO\n",
       "28        QSO\n",
       "29        QSO\n",
       "         ... \n",
       "19970    STAR\n",
       "19971    STAR\n",
       "19972    STAR\n",
       "19973    STAR\n",
       "19974    STAR\n",
       "19975    STAR\n",
       "19976    STAR\n",
       "19977    STAR\n",
       "19978    STAR\n",
       "19979    STAR\n",
       "19980    STAR\n",
       "19981    STAR\n",
       "19982    STAR\n",
       "19983    STAR\n",
       "19984    STAR\n",
       "19985    STAR\n",
       "19986    STAR\n",
       "19987    STAR\n",
       "19988    STAR\n",
       "19989    STAR\n",
       "19990    STAR\n",
       "19991    STAR\n",
       "19992    STAR\n",
       "19993    STAR\n",
       "19994    STAR\n",
       "19995    STAR\n",
       "19996    STAR\n",
       "19997    STAR\n",
       "19998    STAR\n",
       "19999    STAR\n",
       "Name: class, Length: 20000, dtype: object"
      ]
     },
     "execution_count": 15,
     "metadata": {},
     "output_type": "execute_result"
    }
   ],
   "source": [
    "train['class']"
   ]
  },
  {
   "cell_type": "code",
   "execution_count": 16,
   "metadata": {},
   "outputs": [
    {
     "data": {
      "text/plain": [
       "RandomForestClassifier(bootstrap=True, class_weight='balanced',\n",
       "                       criterion='gini', max_depth=None, max_features='auto',\n",
       "                       max_leaf_nodes=None, min_impurity_decrease=0.0,\n",
       "                       min_impurity_split=None, min_samples_leaf=1,\n",
       "                       min_samples_split=2, min_weight_fraction_leaf=0.0,\n",
       "                       n_estimators=100, n_jobs=8, oob_score=False,\n",
       "                       random_state=15, verbose=0, warm_start=False)"
      ]
     },
     "execution_count": 16,
     "metadata": {},
     "output_type": "execute_result"
    }
   ],
   "source": [
    "clf = RandomForestClassifier(n_estimators=100, \n",
    "#                              max_features=1,\n",
    "#                              max_depth=1,\n",
    "                             n_jobs=8,\n",
    "#并行处理的几何数\n",
    "                             random_state=15,\n",
    "                             #随机数种子\n",
    "                             class_weight=\"balanced\"\n",
    "#                              ,\n",
    "#                              class_weight={0:1,1:20,2:5}\n",
    "                            )\n",
    "clf.fit(train[features], y)"
   ]
  },
  {
   "cell_type": "code",
   "execution_count": 17,
   "metadata": {},
   "outputs": [
    {
     "data": {
      "text/plain": [
       "array([0, 0, 0, ..., 1, 1, 1], dtype=int64)"
      ]
     },
     "execution_count": 17,
     "metadata": {},
     "output_type": "execute_result"
    }
   ],
   "source": [
    "#y_test为样本实际的类别\n",
    "y_test = pd.factorize(test['class'])[0]\n",
    "y_test"
   ]
  },
  {
   "cell_type": "code",
   "execution_count": 18,
   "metadata": {},
   "outputs": [],
   "source": [
    "#test.iloc[:,:8].values"
   ]
  },
  {
   "cell_type": "code",
   "execution_count": 19,
   "metadata": {},
   "outputs": [],
   "source": [
    "#predict_proba返回的是一个 n 行 k 列的数组， 第 i 行 第 j 列上的数值是模型预测 第 i 个预测样本为某个标签的概率，并且每一行的概率和为1。\n",
    "#y_pred = clf.predict_proba(test.iloc[:,:8].values)\n",
    "\n",
    "#y_pred"
   ]
  },
  {
   "cell_type": "code",
   "execution_count": 20,
   "metadata": {},
   "outputs": [],
   "source": [
    "#range(len(y_pred))"
   ]
  },
  {
   "cell_type": "code",
   "execution_count": 21,
   "metadata": {},
   "outputs": [],
   "source": [
    "#y_pred.transpose()[0]"
   ]
  },
  {
   "cell_type": "code",
   "execution_count": 22,
   "metadata": {
    "scrolled": true
   },
   "outputs": [
    {
     "data": {
      "text/plain": [
       "array([[1., 0.],\n",
       "       [1., 0.],\n",
       "       [1., 0.],\n",
       "       ...,\n",
       "       [0., 1.],\n",
       "       [0., 1.],\n",
       "       [0., 1.]])"
      ]
     },
     "execution_count": 22,
     "metadata": {},
     "output_type": "execute_result"
    }
   ],
   "source": [
    "y_pred = clf.predict_proba(test[features])\n",
    "y_pred"
   ]
  },
  {
   "cell_type": "code",
   "execution_count": 23,
   "metadata": {},
   "outputs": [],
   "source": [
    "#y_scores为样本为正例的概率\n",
    "#y_scores = np.array([y_pred[i][0] if y_test[i]==0 else y_pred[i][1] for i in range(len(y_pred))])\n",
    "#y_scores = np.array([y_pred[i][1] for i in range(len(y_pred))])\n",
    "#y_scores"
   ]
  },
  {
   "cell_type": "code",
   "execution_count": 24,
   "metadata": {},
   "outputs": [],
   "source": [
    "#或者用theshold作步长的循环"
   ]
  },
  {
   "cell_type": "code",
   "execution_count": 25,
   "metadata": {},
   "outputs": [
    {
     "data": {
      "image/png": "[encoded data removed]",
      "text/plain": [
       "<Figure size 432x288 with 1 Axes>"
      ]
     },
     "metadata": {},
     "output_type": "display_data"
    }
   ],
   "source": [
    "plt.figure(\"P-R Curve\")\n",
    "plt.title('Precision/Recall Curve')\n",
    "plt.xlabel('Recall')\n",
    "plt.ylabel('Precision')\n",
    "\n",
    "precision, recall, thresholds = precision_recall_curve(y_test, y_pred.transpose()[1])\n",
    "plt.plot(recall,precision)\n",
    "plt.show()"
   ]
  },
  {
   "cell_type": "code",
   "execution_count": 26,
   "metadata": {},
   "outputs": [
    {
     "name": "stdout",
     "output_type": "stream",
     "text": [
      "交叉验证准确率： [0.99925 1.      0.99975 0.998   1.     ]\n"
     ]
    }
   ],
   "source": [
    "scores=cross_val_score(clf,train[features],y,cv=5)\n",
    "print(\"交叉验证准确率：\",scores)"
   ]
  },
  {
   "cell_type": "code",
   "execution_count": 27,
   "metadata": {},
   "outputs": [
    {
     "data": {
      "text/html": [
       "<div>\n",
       "<style scoped>\n",
       "    .dataframe tbody tr th:only-of-type {\n",
       "        vertical-align: middle;\n",
       "    }\n",
       "\n",
       "    .dataframe tbody tr th {\n",
       "        vertical-align: top;\n",
       "    }\n",
       "\n",
       "    .dataframe thead th {\n",
       "        text-align: right;\n",
       "    }\n",
       "</style>\n",
       "<table border=\"1\" class=\"dataframe\">\n",
       "  <thead>\n",
       "    <tr style=\"text-align: right;\">\n",
       "      <th>Predicted classes</th>\n",
       "      <th>QSO</th>\n",
       "      <th>STAR</th>\n",
       "    </tr>\n",
       "    <tr>\n",
       "      <th>Actual classes</th>\n",
       "      <th></th>\n",
       "      <th></th>\n",
       "    </tr>\n",
       "  </thead>\n",
       "  <tbody>\n",
       "    <tr>\n",
       "      <th>QSO</th>\n",
       "      <td>9999</td>\n",
       "      <td>1</td>\n",
       "    </tr>\n",
       "    <tr>\n",
       "      <th>STAR</th>\n",
       "      <td>12</td>\n",
       "      <td>9988</td>\n",
       "    </tr>\n",
       "  </tbody>\n",
       "</table>\n",
       "</div>"
      ],
      "text/plain": [
       "<div>\n",
       "<style scoped>\n",
       "    .dataframe tbody tr th:only-of-type {\n",
       "        vertical-align: middle;\n",
       "    }\n",
       "\n",
       "    .dataframe tbody tr th {\n",
       "        vertical-align: top;\n",
       "    }\n",
       "\n",
       "    .dataframe thead th {\n",
       "        text-align: right;\n",
       "    }\n",
       "</style>\n",
       "<table border=\"1\" class=\"dataframe\">\n",
       "  <thead>\n",
       "    <tr style=\"text-align: right;\">\n",
       "      <th>Predicted classes</th>\n",
       "      <th>QSO</th>\n",
       "      <th>STAR</th>\n",
       "    </tr>\n",
       "    <tr>\n",
       "      <th>Actual classes</th>\n",
       "      <th></th>\n",
       "      <th></th>\n",
       "    </tr>\n",
       "  </thead>\n",
       "  <tbody>\n",
       "    <tr>\n",
       "      <th>QSO</th>\n",
       "      <td>9999</td>\n",
       "      <td>1</td>\n",
       "    </tr>\n",
       "    <tr>\n",
       "      <th>STAR</th>\n",
       "      <td>12</td>\n",
       "      <td>9988</td>\n",
       "    </tr>\n",
       "  </tbody>\n",
       "</table>\n",
       "</div>"
      ]
     },
     "execution_count": 27,
     "metadata": {},
     "output_type": "execute_result"
    }
   ],
   "source": [
    "# Create actual english names for the plants for each predicted plant class\n",
    "preds = target_names[clf.predict(test[features])]\n",
    "# Create confusion matrix\n",
    "pd.crosstab(test['class'], preds, rownames=['Actual classes'], colnames=['Predicted classes'])"
   ]
  },
  {
   "cell_type": "code",
   "execution_count": 28,
   "metadata": {},
   "outputs": [
    {
     "data": {
      "text/plain": [
       "array(['QSO', 'QSO', 'QSO', ..., 'STAR', 'STAR', 'STAR'], dtype='<U4')"
      ]
     },
     "execution_count": 28,
     "metadata": {},
     "output_type": "execute_result"
    }
   ],
   "source": [
    "test['preds'] = preds\n",
    "preds"
   ]
  },
  {
   "cell_type": "code",
   "execution_count": 29,
   "metadata": {},
   "outputs": [],
   "source": [
    "TP = len(test[(test['preds']=='QSO')&(test['class']=='QSO')])\n",
    "TN = len(test[(test['preds']=='STAR')&(test['class']=='STAR')])\n",
    "FN = len(test[(test['preds']=='STAR')&(test['class']=='QSO')])\n",
    "FP = len(test[(test['preds']=='QSO')&(test['class']=='STAR')])"
   ]
  },
  {
   "cell_type": "code",
   "execution_count": 30,
   "metadata": {},
   "outputs": [
    {
     "data": {
      "text/plain": [
       "0.9988013185495954"
      ]
     },
     "execution_count": 30,
     "metadata": {},
     "output_type": "execute_result"
    }
   ],
   "source": [
    "P = TP/(TP+FP)\n",
    "P"
   ]
  },
  {
   "cell_type": "code",
   "execution_count": 31,
   "metadata": {},
   "outputs": [
    {
     "data": {
      "text/plain": [
       "0.9999"
      ]
     },
     "execution_count": 31,
     "metadata": {},
     "output_type": "execute_result"
    }
   ],
   "source": [
    "R = TP/(TP+FN)\n",
    "R"
   ]
  },
  {
   "cell_type": "code",
   "execution_count": 32,
   "metadata": {},
   "outputs": [
    {
     "data": {
      "text/plain": [
       "0.9993503573034831"
      ]
     },
     "execution_count": 32,
     "metadata": {},
     "output_type": "execute_result"
    }
   ],
   "source": [
    "F1 = (2*P*R)/(P+R)\n",
    "F1"
   ]
  },
  {
   "cell_type": "code",
   "execution_count": 35,
   "metadata": {},
   "outputs": [
    {
     "data": {
      "image/png": "[encoded data removed]",
      "text/plain": [
       "<Figure size 432x288 with 1 Axes>"
      ]
     },
     "metadata": {},
     "output_type": "display_data"
    }
   ],
   "source": [
    "from sklearn.metrics import roc_curve, auc\n",
    "\n",
    "pred_valid = y_pred[:, 1]\n",
    "valid_y = y_test\n",
    "fpr, tpr, _ = roc_curve(valid_y, pred_valid)\n",
    "roc_auc = auc(fpr, tpr)\n",
    "\n",
    "fig, ax=plt.subplots()\n",
    "ax.set_title('ROC Validation,    AUC = %0.2f' % roc_auc)\n",
    "ax.spines['top'].set_visible(False)\n",
    "ax.plot(fpr, tpr, 'r', label='AUC = ')\n",
    "ax.plot([0, 1], [0, 1], color='#778899', linestyle='--')\n",
    "ax.set_xlim([0, 1])\n",
    "ax.set_ylim([0, 1])\n",
    "ax.set_ylabel('True Positive Rate')\n",
    "ax.set_xlabel('False Positive Rate')\n",
    "plt.show()"
   ]
  },
  {
   "cell_type": "code",
   "execution_count": 34,
   "metadata": {
    "collapsed": true
   },
   "outputs": [
    {
     "data": {
      "image/png": "[encoded data removed]",
      "text/plain": [
       "<Figure size 432x288 with 1 Axes>"
      ]
     },
     "metadata": {},
     "output_type": "display_data"
    }
   ],
   "source": []
  },
  {
   "cell_type": "code",
   "execution_count": null,
   "metadata": {},
   "outputs": [],
   "source": []
  }
 ],
 "metadata": {
  "kernelspec": {
   "display_name": "Python 3.9.6 64-bit",
   "language": "python",
   "name": "python3"
  },
  "language_info": {
   "codemirror_mode": {
    "name": "ipython",
    "version": 3
   },
   "file_extension": ".py",
   "mimetype": "text/x-python",
   "name": "python",
   "nbconvert_exporter": "python",
   "pygments_lexer": "ipython3",
   "version": "3.9.6"
  },
  "vscode": {
   "interpreter": {
    "hash": "31f2aee4e71d21fbe5cf8b01ff0e069b9275f58929596ceb00d14d90e3e16cd6"
   }
  }
 },
 "nbformat": 4,
 "nbformat_minor": 2
}
