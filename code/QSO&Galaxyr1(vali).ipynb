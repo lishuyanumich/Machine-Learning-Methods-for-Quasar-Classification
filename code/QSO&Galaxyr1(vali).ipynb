{
 "cells": [
  {
   "cell_type": "code",
   "execution_count": 2,
   "metadata": {},
   "outputs": [],
   "source": [
    "import pandas as pd\n",
    "import numpy as np\n",
    "import matplotlib.pyplot as plt\n",
    "\n",
    "from sklearn.ensemble import RandomForestClassifier\n",
    "from sklearn.model_selection import cross_val_score\n",
    "from sklearn import metrics\n",
    "from sklearn.metrics import precision_recall_curve\n",
    "from sklearn.utils.fixes import signature"
   ]
  },
  {
   "cell_type": "code",
   "execution_count": 3,
   "metadata": {},
   "outputs": [],
   "source": [
    "q1 = pd.read_csv(\"/Users/ShuyanLi/desktop/Astronomy project/qsos1.csv\")\n",
    "q2 = pd.read_csv(\"/Users/ShuyanLi/desktop/Astronomy project/gals1r1.csv\")\n",
    "q3 = pd.read_csv(\"/Users/ShuyanLi/desktop/Astronomy project/qsovali.csv\")\n",
    "q4 = pd.read_csv(\"/Users/ShuyanLi/desktop/Astronomy project/galvali.csv\")"
   ]
  },
  {
   "cell_type": "code",
   "execution_count": 4,
   "metadata": {},
   "outputs": [
    {
     "data": {
      "text/html": [
       "<div>\n",
       "<style scoped>\n",
       "    .dataframe tbody tr th:only-of-type {\n",
       "        vertical-align: middle;\n",
       "    }\n",
       "\n",
       "    .dataframe tbody tr th {\n",
       "        vertical-align: top;\n",
       "    }\n",
       "\n",
       "    .dataframe thead th {\n",
       "        text-align: right;\n",
       "    }\n",
       "</style>\n",
       "<table border=\"1\" class=\"dataframe\">\n",
       "  <thead>\n",
       "    <tr style=\"text-align: right;\">\n",
       "      <th></th>\n",
       "      <th>gw1</th>\n",
       "      <th>rw1</th>\n",
       "      <th>iw1</th>\n",
       "      <th>zw1</th>\n",
       "      <th>yw1</th>\n",
       "      <th>w12</th>\n",
       "      <th>ipk</th>\n",
       "      <th>zpk</th>\n",
       "      <th>w23</th>\n",
       "      <th>ra</th>\n",
       "      <th>dec</th>\n",
       "      <th>class</th>\n",
       "    </tr>\n",
       "  </thead>\n",
       "  <tbody>\n",
       "    <tr>\n",
       "      <th>0</th>\n",
       "      <td>0.1291</td>\n",
       "      <td>0.0442</td>\n",
       "      <td>0.0763</td>\n",
       "      <td>-0.1097</td>\n",
       "      <td>-0.0390</td>\n",
       "      <td>0.645</td>\n",
       "      <td>-0.0798</td>\n",
       "      <td>-0.1306</td>\n",
       "      <td>1.347</td>\n",
       "      <td>130.182022</td>\n",
       "      <td>35.254021</td>\n",
       "      <td>QSO</td>\n",
       "    </tr>\n",
       "    <tr>\n",
       "      <th>1</th>\n",
       "      <td>1.1357</td>\n",
       "      <td>1.1314</td>\n",
       "      <td>1.1898</td>\n",
       "      <td>1.2547</td>\n",
       "      <td>1.0329</td>\n",
       "      <td>0.314</td>\n",
       "      <td>-0.1875</td>\n",
       "      <td>0.1815</td>\n",
       "      <td>0.872</td>\n",
       "      <td>211.456385</td>\n",
       "      <td>39.662792</td>\n",
       "      <td>QSO</td>\n",
       "    </tr>\n",
       "    <tr>\n",
       "      <th>2</th>\n",
       "      <td>0.6357</td>\n",
       "      <td>0.5618</td>\n",
       "      <td>0.5277</td>\n",
       "      <td>0.1935</td>\n",
       "      <td>0.2482</td>\n",
       "      <td>0.275</td>\n",
       "      <td>-0.0891</td>\n",
       "      <td>-0.0772</td>\n",
       "      <td>1.150</td>\n",
       "      <td>154.642487</td>\n",
       "      <td>55.115891</td>\n",
       "      <td>QSO</td>\n",
       "    </tr>\n",
       "    <tr>\n",
       "      <th>3</th>\n",
       "      <td>2.2020</td>\n",
       "      <td>2.1002</td>\n",
       "      <td>2.0227</td>\n",
       "      <td>2.0110</td>\n",
       "      <td>1.4642</td>\n",
       "      <td>0.564</td>\n",
       "      <td>-0.0226</td>\n",
       "      <td>0.0504</td>\n",
       "      <td>1.303</td>\n",
       "      <td>355.534149</td>\n",
       "      <td>14.697548</td>\n",
       "      <td>QSO</td>\n",
       "    </tr>\n",
       "    <tr>\n",
       "      <th>4</th>\n",
       "      <td>0.7686</td>\n",
       "      <td>0.7570</td>\n",
       "      <td>0.5810</td>\n",
       "      <td>0.7206</td>\n",
       "      <td>0.5224</td>\n",
       "      <td>0.732</td>\n",
       "      <td>-0.0889</td>\n",
       "      <td>-0.1298</td>\n",
       "      <td>1.017</td>\n",
       "      <td>145.067429</td>\n",
       "      <td>16.637278</td>\n",
       "      <td>QSO</td>\n",
       "    </tr>\n",
       "  </tbody>\n",
       "</table>\n",
       "</div>"
      ],
      "text/plain": [
       "      gw1     rw1     iw1     zw1     yw1    w12     ipk     zpk    w23  \\\n",
       "0  0.1291  0.0442  0.0763 -0.1097 -0.0390  0.645 -0.0798 -0.1306  1.347   \n",
       "1  1.1357  1.1314  1.1898  1.2547  1.0329  0.314 -0.1875  0.1815  0.872   \n",
       "2  0.6357  0.5618  0.5277  0.1935  0.2482  0.275 -0.0891 -0.0772  1.150   \n",
       "3  2.2020  2.1002  2.0227  2.0110  1.4642  0.564 -0.0226  0.0504  1.303   \n",
       "4  0.7686  0.7570  0.5810  0.7206  0.5224  0.732 -0.0889 -0.1298  1.017   \n",
       "\n",
       "           ra        dec class  \n",
       "0  130.182022  35.254021   QSO  \n",
       "1  211.456385  39.662792   QSO  \n",
       "2  154.642487  55.115891   QSO  \n",
       "3  355.534149  14.697548   QSO  \n",
       "4  145.067429  16.637278   QSO  "
      ]
     },
     "execution_count": 4,
     "metadata": {},
     "output_type": "execute_result"
    }
   ],
   "source": [
    "q1.head()"
   ]
  },
  {
   "cell_type": "code",
   "execution_count": 5,
   "metadata": {},
   "outputs": [],
   "source": [
    "data1 = pd.concat([q1, q2], ignore_index = True)\n",
    "#merge q1 and q2#\n",
    "data2 = pd.concat([q3, q4], ignore_index = True)\n",
    "#merge q3 and q4#"
   ]
  },
  {
   "cell_type": "code",
   "execution_count": 6,
   "metadata": {},
   "outputs": [
    {
     "data": {
      "text/html": [
       "<div>\n",
       "<style scoped>\n",
       "    .dataframe tbody tr th:only-of-type {\n",
       "        vertical-align: middle;\n",
       "    }\n",
       "\n",
       "    .dataframe tbody tr th {\n",
       "        vertical-align: top;\n",
       "    }\n",
       "\n",
       "    .dataframe thead th {\n",
       "        text-align: right;\n",
       "    }\n",
       "</style>\n",
       "<table border=\"1\" class=\"dataframe\">\n",
       "  <thead>\n",
       "    <tr style=\"text-align: right;\">\n",
       "      <th></th>\n",
       "      <th>gw1</th>\n",
       "      <th>rw1</th>\n",
       "      <th>iw1</th>\n",
       "      <th>zw1</th>\n",
       "      <th>yw1</th>\n",
       "      <th>w12</th>\n",
       "      <th>ipk</th>\n",
       "      <th>zpk</th>\n",
       "      <th>w23</th>\n",
       "      <th>ra</th>\n",
       "      <th>dec</th>\n",
       "      <th>class</th>\n",
       "    </tr>\n",
       "  </thead>\n",
       "  <tbody>\n",
       "    <tr>\n",
       "      <th>0</th>\n",
       "      <td>0.1291</td>\n",
       "      <td>0.0442</td>\n",
       "      <td>0.0763</td>\n",
       "      <td>-0.1097</td>\n",
       "      <td>-0.0390</td>\n",
       "      <td>0.645</td>\n",
       "      <td>-0.0798</td>\n",
       "      <td>-0.1306</td>\n",
       "      <td>1.347</td>\n",
       "      <td>130.182022</td>\n",
       "      <td>35.254021</td>\n",
       "      <td>QSO</td>\n",
       "    </tr>\n",
       "    <tr>\n",
       "      <th>1</th>\n",
       "      <td>1.1357</td>\n",
       "      <td>1.1314</td>\n",
       "      <td>1.1898</td>\n",
       "      <td>1.2547</td>\n",
       "      <td>1.0329</td>\n",
       "      <td>0.314</td>\n",
       "      <td>-0.1875</td>\n",
       "      <td>0.1815</td>\n",
       "      <td>0.872</td>\n",
       "      <td>211.456385</td>\n",
       "      <td>39.662792</td>\n",
       "      <td>QSO</td>\n",
       "    </tr>\n",
       "    <tr>\n",
       "      <th>2</th>\n",
       "      <td>0.6357</td>\n",
       "      <td>0.5618</td>\n",
       "      <td>0.5277</td>\n",
       "      <td>0.1935</td>\n",
       "      <td>0.2482</td>\n",
       "      <td>0.275</td>\n",
       "      <td>-0.0891</td>\n",
       "      <td>-0.0772</td>\n",
       "      <td>1.150</td>\n",
       "      <td>154.642487</td>\n",
       "      <td>55.115891</td>\n",
       "      <td>QSO</td>\n",
       "    </tr>\n",
       "    <tr>\n",
       "      <th>3</th>\n",
       "      <td>2.2020</td>\n",
       "      <td>2.1002</td>\n",
       "      <td>2.0227</td>\n",
       "      <td>2.0110</td>\n",
       "      <td>1.4642</td>\n",
       "      <td>0.564</td>\n",
       "      <td>-0.0226</td>\n",
       "      <td>0.0504</td>\n",
       "      <td>1.303</td>\n",
       "      <td>355.534149</td>\n",
       "      <td>14.697548</td>\n",
       "      <td>QSO</td>\n",
       "    </tr>\n",
       "    <tr>\n",
       "      <th>4</th>\n",
       "      <td>0.7686</td>\n",
       "      <td>0.7570</td>\n",
       "      <td>0.5810</td>\n",
       "      <td>0.7206</td>\n",
       "      <td>0.5224</td>\n",
       "      <td>0.732</td>\n",
       "      <td>-0.0889</td>\n",
       "      <td>-0.1298</td>\n",
       "      <td>1.017</td>\n",
       "      <td>145.067429</td>\n",
       "      <td>16.637278</td>\n",
       "      <td>QSO</td>\n",
       "    </tr>\n",
       "  </tbody>\n",
       "</table>\n",
       "</div>"
      ],
      "text/plain": [
       "      gw1     rw1     iw1     zw1     yw1    w12     ipk     zpk    w23  \\\n",
       "0  0.1291  0.0442  0.0763 -0.1097 -0.0390  0.645 -0.0798 -0.1306  1.347   \n",
       "1  1.1357  1.1314  1.1898  1.2547  1.0329  0.314 -0.1875  0.1815  0.872   \n",
       "2  0.6357  0.5618  0.5277  0.1935  0.2482  0.275 -0.0891 -0.0772  1.150   \n",
       "3  2.2020  2.1002  2.0227  2.0110  1.4642  0.564 -0.0226  0.0504  1.303   \n",
       "4  0.7686  0.7570  0.5810  0.7206  0.5224  0.732 -0.0889 -0.1298  1.017   \n",
       "\n",
       "           ra        dec class  \n",
       "0  130.182022  35.254021   QSO  \n",
       "1  211.456385  39.662792   QSO  \n",
       "2  154.642487  55.115891   QSO  \n",
       "3  355.534149  14.697548   QSO  \n",
       "4  145.067429  16.637278   QSO  "
      ]
     },
     "execution_count": 6,
     "metadata": {},
     "output_type": "execute_result"
    }
   ],
   "source": [
    "data1.head()"
   ]
  },
  {
   "cell_type": "code",
   "execution_count": 7,
   "metadata": {},
   "outputs": [],
   "source": [
    "target_names=np.array(['QSO','STAR'])"
   ]
  },
  {
   "cell_type": "code",
   "execution_count": 8,
   "metadata": {},
   "outputs": [],
   "source": [
    "train = data1\n",
    "test = data2"
   ]
  },
  {
   "cell_type": "code",
   "execution_count": 9,
   "metadata": {},
   "outputs": [],
   "source": [
    "train.sort_index(inplace=True)\n",
    "test.sort_index(inplace=True)"
   ]
  },
  {
   "cell_type": "code",
   "execution_count": 10,
   "metadata": {},
   "outputs": [
    {
     "name": "stdout",
     "output_type": "stream",
     "text": [
      "Number of observations in the training data: 20000\n",
      "Number of observations in the test data: 20000\n"
     ]
    }
   ],
   "source": [
    "# Show the number of observations for the test and training dataframes\n",
    "print('Number of observations in the training data:', len(train))\n",
    "print('Number of observations in the test data:',len(test))"
   ]
  },
  {
   "cell_type": "code",
   "execution_count": 11,
   "metadata": {},
   "outputs": [
    {
     "data": {
      "text/plain": [
       "Index(['gw1', 'rw1', 'iw1', 'zw1', 'yw1', 'w12', 'ipk', 'zpk'], dtype='object')"
      ]
     },
     "execution_count": 11,
     "metadata": {},
     "output_type": "execute_result"
    }
   ],
   "source": [
    "# Create a list of the feature column's names\n",
    "features = train.columns[:8]\n",
    "\n",
    "# View features\n",
    "features"
   ]
  },
  {
   "cell_type": "code",
   "execution_count": 12,
   "metadata": {},
   "outputs": [
    {
     "data": {
      "text/plain": [
       "(array([0, 0, 0, ..., 1, 1, 1]), Index(['QSO', 'GALAXY'], dtype='object'))"
      ]
     },
     "execution_count": 12,
     "metadata": {},
     "output_type": "execute_result"
    }
   ],
   "source": [
    "pd.factorize(train['class'])"
   ]
  },
  {
   "cell_type": "code",
   "execution_count": 13,
   "metadata": {},
   "outputs": [
    {
     "data": {
      "text/plain": [
       "array([0, 0, 0, ..., 1, 1, 1])"
      ]
     },
     "execution_count": 13,
     "metadata": {},
     "output_type": "execute_result"
    }
   ],
   "source": [
    "# train['species'] contains the actual species names. Before we can use it,\n",
    "# we need to convert each species name into a digit. So, in this case there\n",
    "# are three species, which have been coded as 0, 1, or 2.\n",
    "y = pd.factorize(train['class'])[0]\n",
    "\n",
    "# View target\n",
    "y"
   ]
  },
  {
   "cell_type": "code",
   "execution_count": 14,
   "metadata": {},
   "outputs": [
    {
     "data": {
      "text/plain": [
       "0           QSO\n",
       "1           QSO\n",
       "2           QSO\n",
       "3           QSO\n",
       "4           QSO\n",
       "5           QSO\n",
       "6           QSO\n",
       "7           QSO\n",
       "8           QSO\n",
       "9           QSO\n",
       "10          QSO\n",
       "11          QSO\n",
       "12          QSO\n",
       "13          QSO\n",
       "14          QSO\n",
       "15          QSO\n",
       "16          QSO\n",
       "17          QSO\n",
       "18          QSO\n",
       "19          QSO\n",
       "20          QSO\n",
       "21          QSO\n",
       "22          QSO\n",
       "23          QSO\n",
       "24          QSO\n",
       "25          QSO\n",
       "26          QSO\n",
       "27          QSO\n",
       "28          QSO\n",
       "29          QSO\n",
       "          ...  \n",
       "19970    GALAXY\n",
       "19971    GALAXY\n",
       "19972    GALAXY\n",
       "19973    GALAXY\n",
       "19974    GALAXY\n",
       "19975    GALAXY\n",
       "19976    GALAXY\n",
       "19977    GALAXY\n",
       "19978    GALAXY\n",
       "19979    GALAXY\n",
       "19980    GALAXY\n",
       "19981    GALAXY\n",
       "19982    GALAXY\n",
       "19983    GALAXY\n",
       "19984    GALAXY\n",
       "19985    GALAXY\n",
       "19986    GALAXY\n",
       "19987    GALAXY\n",
       "19988    GALAXY\n",
       "19989    GALAXY\n",
       "19990    GALAXY\n",
       "19991    GALAXY\n",
       "19992    GALAXY\n",
       "19993    GALAXY\n",
       "19994    GALAXY\n",
       "19995    GALAXY\n",
       "19996    GALAXY\n",
       "19997    GALAXY\n",
       "19998    GALAXY\n",
       "19999    GALAXY\n",
       "Name: class, Length: 20000, dtype: object"
      ]
     },
     "execution_count": 14,
     "metadata": {},
     "output_type": "execute_result"
    }
   ],
   "source": [
    "train['class']"
   ]
  },
  {
   "cell_type": "code",
   "execution_count": 15,
   "metadata": {},
   "outputs": [
    {
     "data": {
      "text/plain": [
       "RandomForestClassifier(bootstrap=True, class_weight='balanced',\n",
       "            criterion='gini', max_depth=None, max_features='auto',\n",
       "            max_leaf_nodes=None, min_impurity_decrease=0.0,\n",
       "            min_impurity_split=None, min_samples_leaf=1,\n",
       "            min_samples_split=2, min_weight_fraction_leaf=0.0,\n",
       "            n_estimators=100, n_jobs=8, oob_score=False, random_state=15,\n",
       "            verbose=0, warm_start=False)"
      ]
     },
     "execution_count": 15,
     "metadata": {},
     "output_type": "execute_result"
    }
   ],
   "source": [
    "clf = RandomForestClassifier(n_estimators=100, \n",
    "#                              max_features=1,\n",
    "#                              max_depth=1,\n",
    "                             n_jobs=8,\n",
    "#并行处理的几何数\n",
    "                             random_state=15,\n",
    "                             #随机数种子\n",
    "                             class_weight=\"balanced\"\n",
    "#                              ,\n",
    "#                              class_weight={0:1,1:20,2:5}\n",
    "                            )\n",
    "clf.fit(train[features], y)"
   ]
  },
  {
   "cell_type": "code",
   "execution_count": 16,
   "metadata": {},
   "outputs": [
    {
     "data": {
      "text/plain": [
       "array([0, 0, 0, ..., 1, 1, 1])"
      ]
     },
     "execution_count": 16,
     "metadata": {},
     "output_type": "execute_result"
    }
   ],
   "source": [
    "y_test = pd.factorize(test['class'])[0]\n",
    "y_test"
   ]
  },
  {
   "cell_type": "code",
   "execution_count": 17,
   "metadata": {},
   "outputs": [
    {
     "data": {
      "text/plain": [
       "array([[ 2.1426000e+00,  1.8030000e+00,  1.6769000e+00, ...,\n",
       "         3.5200000e-01, -7.9100000e-02, -2.0000000e-03],\n",
       "       [ 1.9530000e+00,  2.0130000e+00,  1.7887000e+00, ...,\n",
       "         4.2900000e-01,  5.6200000e-02,  6.2800000e-02],\n",
       "       [ 1.5563000e+00,  1.1660000e+00,  5.4010000e-01, ...,\n",
       "         4.5900000e-01, -5.4300000e-02,  5.3500000e-02],\n",
       "       ...,\n",
       "       [ 1.9664001e+00,  1.3699017e+00,  7.7160070e-01, ...,\n",
       "        -6.1700060e-01,  9.5129967e-01,  1.0173988e+00],\n",
       "       [ 3.6121006e+00,  3.2168007e+00,  2.6120014e+00, ...,\n",
       "        -6.1100006e-01,  7.0750046e-01,  7.8599930e-01],\n",
       "       [ 4.0727997e+00,  2.8964996e+00,  2.0752983e+00, ...,\n",
       "        -5.6999970e-01,  5.0560000e-01,  6.2540054e-01]])"
      ]
     },
     "execution_count": 17,
     "metadata": {},
     "output_type": "execute_result"
    }
   ],
   "source": [
    "test.iloc[:,:8].values"
   ]
  },
  {
   "cell_type": "code",
   "execution_count": 18,
   "metadata": {},
   "outputs": [
    {
     "data": {
      "text/plain": [
       "array([[1., 0.],\n",
       "       [1., 0.],\n",
       "       [1., 0.],\n",
       "       ...,\n",
       "       [0., 1.],\n",
       "       [0., 1.],\n",
       "       [0., 1.]])"
      ]
     },
     "execution_count": 18,
     "metadata": {},
     "output_type": "execute_result"
    }
   ],
   "source": [
    "y_pred = clf.predict_proba(test.iloc[:,:8].values)\n",
    "\n",
    "y_pred"
   ]
  },
  {
   "cell_type": "code",
   "execution_count": 19,
   "metadata": {},
   "outputs": [
    {
     "data": {
      "text/plain": [
       "array([0, 0, 0, ..., 1, 1, 1])"
      ]
     },
     "execution_count": 19,
     "metadata": {},
     "output_type": "execute_result"
    }
   ],
   "source": [
    "y_pred = clf.predict(test[features])\n",
    "y_pred"
   ]
  },
  {
   "cell_type": "code",
   "execution_count": 20,
   "metadata": {},
   "outputs": [
    {
     "data": {
      "text/plain": [
       "0.9896"
      ]
     },
     "execution_count": 20,
     "metadata": {},
     "output_type": "execute_result"
    }
   ],
   "source": [
    "from sklearn.metrics import matthews_corrcoef\n",
    "m_corr = matthews_corrcoef(y_test, y_pred)\n",
    "m_corr"
   ]
  },
  {
   "cell_type": "code",
   "execution_count": 19,
   "metadata": {},
   "outputs": [
    {
     "data": {
      "text/plain": [
       "range(0, 20000)"
      ]
     },
     "execution_count": 19,
     "metadata": {},
     "output_type": "execute_result"
    }
   ],
   "source": [
    "range(len(y_pred))"
   ]
  },
  {
   "cell_type": "code",
   "execution_count": 20,
   "metadata": {},
   "outputs": [
    {
     "data": {
      "text/plain": [
       "array([1., 1., 1., ..., 1., 1., 1.])"
      ]
     },
     "execution_count": 20,
     "metadata": {},
     "output_type": "execute_result"
    }
   ],
   "source": [
    "y_scores = np.array([y_pred[i][0] if y_test[i]==0 else y_pred[i][1] for i in range(len(y_pred))])\n",
    "y_scores"
   ]
  },
  {
   "cell_type": "code",
   "execution_count": 21,
   "metadata": {},
   "outputs": [
    {
     "data": {
      "image/png": "[encoded data removed]",
      "text/plain": [
       "<Figure size 432x288 with 1 Axes>"
      ]
     },
     "metadata": {
      "needs_background": "light"
     },
     "output_type": "display_data"
    }
   ],
   "source": [
    "precision, recall, thresholds = precision_recall_curve(y_test, y_scores)\n",
    "plt.plot(recall,precision)\n",
    "plt.show()"
   ]
  },
  {
   "cell_type": "code",
   "execution_count": 22,
   "metadata": {},
   "outputs": [
    {
     "name": "stdout",
     "output_type": "stream",
     "text": [
      "交叉验证准确率： [0.9945  0.99575 0.99575 0.994   0.99275]\n"
     ]
    }
   ],
   "source": [
    "scores=cross_val_score(clf,train[features],y,cv=5)\n",
    "print(\"交叉验证准确率：\",scores)"
   ]
  },
  {
   "cell_type": "code",
   "execution_count": 23,
   "metadata": {},
   "outputs": [
    {
     "data": {
      "text/html": [
       "<div>\n",
       "<style scoped>\n",
       "    .dataframe tbody tr th:only-of-type {\n",
       "        vertical-align: middle;\n",
       "    }\n",
       "\n",
       "    .dataframe tbody tr th {\n",
       "        vertical-align: top;\n",
       "    }\n",
       "\n",
       "    .dataframe thead th {\n",
       "        text-align: right;\n",
       "    }\n",
       "</style>\n",
       "<table border=\"1\" class=\"dataframe\">\n",
       "  <thead>\n",
       "    <tr style=\"text-align: right;\">\n",
       "      <th>Predicted classes</th>\n",
       "      <th>QSO</th>\n",
       "      <th>STAR</th>\n",
       "    </tr>\n",
       "    <tr>\n",
       "      <th>Actual classes</th>\n",
       "      <th></th>\n",
       "      <th></th>\n",
       "    </tr>\n",
       "  </thead>\n",
       "  <tbody>\n",
       "    <tr>\n",
       "      <th>GALAXY</th>\n",
       "      <td>52</td>\n",
       "      <td>9948</td>\n",
       "    </tr>\n",
       "    <tr>\n",
       "      <th>QSO</th>\n",
       "      <td>9948</td>\n",
       "      <td>52</td>\n",
       "    </tr>\n",
       "  </tbody>\n",
       "</table>\n",
       "</div>"
      ],
      "text/plain": [
       "Predicted classes   QSO  STAR\n",
       "Actual classes               \n",
       "GALAXY               52  9948\n",
       "QSO                9948    52"
      ]
     },
     "execution_count": 23,
     "metadata": {},
     "output_type": "execute_result"
    }
   ],
   "source": [
    "# Create actual english names for the plants for each predicted plant class\n",
    "preds = target_names[clf.predict(test[features])]\n",
    "# Create confusion matrix\n",
    "pd.crosstab(test['class'], preds, rownames=['Actual classes'], colnames=['Predicted classes'])"
   ]
  },
  {
   "cell_type": "code",
   "execution_count": 24,
   "metadata": {},
   "outputs": [
    {
     "data": {
      "text/plain": [
       "array(['QSO', 'QSO', 'QSO', ..., 'STAR', 'STAR', 'STAR'], dtype='<U4')"
      ]
     },
     "execution_count": 24,
     "metadata": {},
     "output_type": "execute_result"
    }
   ],
   "source": [
    "test['preds'] = preds\n",
    "preds"
   ]
  },
  {
   "cell_type": "code",
   "execution_count": 25,
   "metadata": {},
   "outputs": [
    {
     "data": {
      "text/plain": [
       "9948"
      ]
     },
     "execution_count": 25,
     "metadata": {},
     "output_type": "execute_result"
    }
   ],
   "source": [
    "len(test[(test['preds']=='QSO')&(test['class']=='QSO')])"
   ]
  },
  {
   "cell_type": "code",
   "execution_count": 26,
   "metadata": {},
   "outputs": [
    {
     "data": {
      "text/plain": [
       "0"
      ]
     },
     "execution_count": 26,
     "metadata": {},
     "output_type": "execute_result"
    }
   ],
   "source": [
    "len(test[(test['preds']=='STAR')&(test['class']=='STAR')])"
   ]
  }
 ],
 "metadata": {
  "kernelspec": {
   "display_name": "Python 3.9.6 64-bit",
   "language": "python",
   "name": "python3"
  },
  "language_info": {
   "codemirror_mode": {
    "name": "ipython",
    "version": 3
   },
   "file_extension": ".py",
   "mimetype": "text/x-python",
   "name": "python",
   "nbconvert_exporter": "python",
   "pygments_lexer": "ipython3",
   "version": "3.9.6"
  },
  "vscode": {
   "interpreter": {
    "hash": "31f2aee4e71d21fbe5cf8b01ff0e069b9275f58929596ceb00d14d90e3e16cd6"
   }
  }
 },
 "nbformat": 4,
 "nbformat_minor": 2
}
